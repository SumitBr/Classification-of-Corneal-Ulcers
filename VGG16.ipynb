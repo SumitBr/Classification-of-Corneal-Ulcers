{
 "cells": [
  {
   "cell_type": "code",
   "execution_count": 1,
   "metadata": {},
   "outputs": [],
   "source": [
    "# Import necessary libraries\n",
    "import pandas as pd\n",
    "import numpy as np\n",
    "from sklearn.model_selection import train_test_split\n",
    "import tensorflow as tf\n",
    "import matplotlib.pyplot as plt\n",
    "import os, cv2"
   ]
  },
  {
   "cell_type": "code",
   "execution_count": 2,
   "metadata": {},
   "outputs": [],
   "source": [
    "from keras.applications.vgg16 import VGG16\n",
    "from keras.models import Model\n",
    "from keras.layers import Dense, GlobalAveragePooling2D, Input, Flatten"
   ]
  },
  {
   "cell_type": "code",
   "execution_count": 3,
   "metadata": {},
   "outputs": [],
   "source": [
    "sdir=r'E:\\Corneal_Ulcer\\2.0'\n",
    "aug_dir=os.path.join(sdir,'augmented_grade')\n",
    "datasets = [aug_dir]\n",
    "output = []\n",
    "class_names = ['grade 0', 'grade 1','grade 2', 'grade 3', 'grade 4']\n",
    "class_names_label = {class_name:i for i, class_name in enumerate(class_names)}\n",
    "\n",
    "for dataset in datasets:\n",
    "   images = []\n",
    "   labels = []\n",
    "\n",
    "        # Iterate through each folder corresponding to a category\n",
    "   for folder in os.listdir(dataset):\n",
    "    label = class_names_label[folder]\n",
    "               # Iterate through each image in our folder\n",
    "    for file in os.listdir(aug_dir+\"/\"+folder):\n",
    "               # Get the path name of the image\n",
    "      # print(file)\n",
    "       img_path = os.path.join(os.path.join(dataset, folder), file)\n",
    "\n",
    "       image = cv2.imread(img_path)\n",
    "       #image = cv2.cvtColor(image, cv2.COLOR_BGR2RGB)\n",
    "       image = cv2.resize(image, (128,128))\n",
    "       images.append(image)\n",
    "       labels.append(label)\n",
    "   imagess = np.array(images, dtype = 'float32')\n",
    "   labelss = np.array(labels, dtype = 'int32')\n",
    "\n",
    "   train_images=imagess\n",
    "   train_labels=labelss"
   ]
  },
  {
   "cell_type": "code",
   "execution_count": 4,
   "metadata": {},
   "outputs": [],
   "source": [
    "from sklearn.model_selection import train_test_split\n",
    "gpu_device = tf.config.list_physical_devices('GPU')[0]\n",
    "tf.config.experimental.set_memory_growth(gpu_device, True)\n",
    "\n",
    "with tf.device('/GPU:0'):\n",
    "    X_train, X_test,Y_train,Y_test= train_test_split(train_images,train_labels,test_size=0.25, shuffle= True, random_state=42)\n",
    "    "
   ]
  },
  {
   "cell_type": "code",
   "execution_count": 5,
   "metadata": {},
   "outputs": [],
   "source": [
    "vgg16 = VGG16(weights='imagenet', include_top=False)\n",
    "\n",
    "# Add a global spatial average pooling layer\n",
    "x = vgg16.output\n",
    "x = GlobalAveragePooling2D()(x)\n",
    "\n",
    "# Add a fully-connected layer\n",
    "x = Flatten()(x)\n",
    "x = Dense(128, activation='relu')(x)\n",
    "\n",
    "# Add a logistic layer for 5 classes (assuming the labels are from 0 to 4)\n",
    "predictions = Dense(5, activation='softmax')(x)"
   ]
  },
  {
   "cell_type": "code",
   "execution_count": 6,
   "metadata": {},
   "outputs": [],
   "source": [
    "# Define the model\n",
    "model = Model(inputs=vgg16.input, outputs=predictions)\n",
    "\n",
    "# Freeze the layers of the base model\n",
    "for layer in vgg16.layers:\n",
    "    layer.trainable = False"
   ]
  },
  {
   "cell_type": "code",
   "execution_count": 7,
   "metadata": {},
   "outputs": [
    {
     "name": "stdout",
     "output_type": "stream",
     "text": [
      "Model: \"model\"\n",
      "_________________________________________________________________\n",
      " Layer (type)                Output Shape              Param #   \n",
      "=================================================================\n",
      " input_1 (InputLayer)        [(None, None, None, 3)]   0         \n",
      "                                                                 \n",
      " block1_conv1 (Conv2D)       (None, None, None, 64)    1792      \n",
      "                                                                 \n",
      " block1_conv2 (Conv2D)       (None, None, None, 64)    36928     \n",
      "                                                                 \n",
      " block1_pool (MaxPooling2D)  (None, None, None, 64)    0         \n",
      "                                                                 \n",
      " block2_conv1 (Conv2D)       (None, None, None, 128)   73856     \n",
      "                                                                 \n",
      " block2_conv2 (Conv2D)       (None, None, None, 128)   147584    \n",
      "                                                                 \n",
      " block2_pool (MaxPooling2D)  (None, None, None, 128)   0         \n",
      "                                                                 \n",
      " block3_conv1 (Conv2D)       (None, None, None, 256)   295168    \n",
      "                                                                 \n",
      " block3_conv2 (Conv2D)       (None, None, None, 256)   590080    \n",
      "                                                                 \n",
      " block3_conv3 (Conv2D)       (None, None, None, 256)   590080    \n",
      "                                                                 \n",
      " block3_pool (MaxPooling2D)  (None, None, None, 256)   0         \n",
      "                                                                 \n",
      " block4_conv1 (Conv2D)       (None, None, None, 512)   1180160   \n",
      "                                                                 \n",
      " block4_conv2 (Conv2D)       (None, None, None, 512)   2359808   \n",
      "                                                                 \n",
      " block4_conv3 (Conv2D)       (None, None, None, 512)   2359808   \n",
      "                                                                 \n",
      " block4_pool (MaxPooling2D)  (None, None, None, 512)   0         \n",
      "                                                                 \n",
      " block5_conv1 (Conv2D)       (None, None, None, 512)   2359808   \n",
      "                                                                 \n",
      " block5_conv2 (Conv2D)       (None, None, None, 512)   2359808   \n",
      "                                                                 \n",
      " block5_conv3 (Conv2D)       (None, None, None, 512)   2359808   \n",
      "                                                                 \n",
      " block5_pool (MaxPooling2D)  (None, None, None, 512)   0         \n",
      "                                                                 \n",
      " global_average_pooling2d (G  (None, 512)              0         \n",
      " lobalAveragePooling2D)                                          \n",
      "                                                                 \n",
      " flatten (Flatten)           (None, 512)               0         \n",
      "                                                                 \n",
      " dense (Dense)               (None, 128)               65664     \n",
      "                                                                 \n",
      " dense_1 (Dense)             (None, 5)                 645       \n",
      "                                                                 \n",
      "=================================================================\n",
      "Total params: 14,780,997\n",
      "Trainable params: 66,309\n",
      "Non-trainable params: 14,714,688\n",
      "_________________________________________________________________\n"
     ]
    }
   ],
   "source": [
    "model.summary()"
   ]
  },
  {
   "cell_type": "code",
   "execution_count": 8,
   "metadata": {},
   "outputs": [],
   "source": [
    "# Compile the model\n",
    "model.compile(optimizer='adam', loss='sparse_categorical_crossentropy', metrics=['accuracy'])"
   ]
  },
  {
   "cell_type": "code",
   "execution_count": 10,
   "metadata": {},
   "outputs": [
    {
     "name": "stdout",
     "output_type": "stream",
     "text": [
      "Epoch 1/100\n",
      "53/53 [==============================] - 14s 195ms/step - loss: 3.3563 - accuracy: 0.3575 - val_loss: 1.7606 - val_accuracy: 0.4627\n",
      "Epoch 2/100\n",
      "53/53 [==============================] - 6s 105ms/step - loss: 1.4539 - accuracy: 0.5081 - val_loss: 1.3970 - val_accuracy: 0.5182\n",
      "Epoch 3/100\n",
      "53/53 [==============================] - 6s 104ms/step - loss: 1.1055 - accuracy: 0.6009 - val_loss: 1.1541 - val_accuracy: 0.5964\n",
      "Epoch 4/100\n",
      "53/53 [==============================] - 6s 105ms/step - loss: 0.8560 - accuracy: 0.6816 - val_loss: 1.0336 - val_accuracy: 0.6338\n",
      "Epoch 5/100\n",
      "53/53 [==============================] - 6s 105ms/step - loss: 0.7002 - accuracy: 0.7422 - val_loss: 0.9265 - val_accuracy: 0.6702\n",
      "Epoch 6/100\n",
      "53/53 [==============================] - 6s 105ms/step - loss: 0.5699 - accuracy: 0.7924 - val_loss: 0.8494 - val_accuracy: 0.6991\n",
      "Epoch 7/100\n",
      "53/53 [==============================] - 6s 105ms/step - loss: 0.4925 - accuracy: 0.8259 - val_loss: 0.8318 - val_accuracy: 0.7000\n",
      "Epoch 8/100\n",
      "53/53 [==============================] - 6s 105ms/step - loss: 0.4182 - accuracy: 0.8572 - val_loss: 0.7755 - val_accuracy: 0.7253\n",
      "Epoch 9/100\n",
      "53/53 [==============================] - 6s 105ms/step - loss: 0.3496 - accuracy: 0.8831 - val_loss: 0.7234 - val_accuracy: 0.7467\n",
      "Epoch 10/100\n",
      "53/53 [==============================] - 6s 106ms/step - loss: 0.3073 - accuracy: 0.9027 - val_loss: 0.7296 - val_accuracy: 0.7453\n",
      "Epoch 11/100\n",
      "53/53 [==============================] - 6s 106ms/step - loss: 0.2521 - accuracy: 0.9256 - val_loss: 0.6822 - val_accuracy: 0.7587\n",
      "Epoch 12/100\n",
      "53/53 [==============================] - 6s 105ms/step - loss: 0.2121 - accuracy: 0.9439 - val_loss: 0.6669 - val_accuracy: 0.7564\n",
      "Epoch 13/100\n",
      "53/53 [==============================] - 6s 105ms/step - loss: 0.1893 - accuracy: 0.9505 - val_loss: 0.6849 - val_accuracy: 0.7720\n",
      "Epoch 14/100\n",
      "53/53 [==============================] - 6s 106ms/step - loss: 0.1560 - accuracy: 0.9622 - val_loss: 0.6461 - val_accuracy: 0.7773\n",
      "Epoch 15/100\n",
      "53/53 [==============================] - 6s 106ms/step - loss: 0.1307 - accuracy: 0.9727 - val_loss: 0.6513 - val_accuracy: 0.7844\n",
      "Epoch 16/100\n",
      "53/53 [==============================] - 6s 105ms/step - loss: 0.1148 - accuracy: 0.9772 - val_loss: 0.6314 - val_accuracy: 0.7898\n",
      "Epoch 17/100\n",
      "53/53 [==============================] - 6s 105ms/step - loss: 0.0936 - accuracy: 0.9840 - val_loss: 0.6196 - val_accuracy: 0.8009\n",
      "Epoch 18/100\n",
      "53/53 [==============================] - 6s 105ms/step - loss: 0.0776 - accuracy: 0.9889 - val_loss: 0.6075 - val_accuracy: 0.8004\n",
      "Epoch 19/100\n",
      "53/53 [==============================] - 6s 105ms/step - loss: 0.0621 - accuracy: 0.9941 - val_loss: 0.6003 - val_accuracy: 0.8022\n",
      "Epoch 20/100\n",
      "53/53 [==============================] - 6s 106ms/step - loss: 0.0533 - accuracy: 0.9957 - val_loss: 0.5925 - val_accuracy: 0.8067\n",
      "Epoch 21/100\n",
      "53/53 [==============================] - 6s 106ms/step - loss: 0.0440 - accuracy: 0.9969 - val_loss: 0.5934 - val_accuracy: 0.8111\n",
      "Epoch 22/100\n",
      "53/53 [==============================] - 6s 106ms/step - loss: 0.0401 - accuracy: 0.9982 - val_loss: 0.6053 - val_accuracy: 0.8089\n",
      "Epoch 23/100\n",
      "53/53 [==============================] - 6s 105ms/step - loss: 0.0352 - accuracy: 0.9990 - val_loss: 0.5968 - val_accuracy: 0.8120\n",
      "Epoch 24/100\n",
      "53/53 [==============================] - 6s 106ms/step - loss: 0.0299 - accuracy: 0.9996 - val_loss: 0.5922 - val_accuracy: 0.8204\n",
      "Epoch 25/100\n",
      "53/53 [==============================] - 6s 105ms/step - loss: 0.0250 - accuracy: 0.9993 - val_loss: 0.5933 - val_accuracy: 0.8178\n",
      "Epoch 26/100\n",
      "53/53 [==============================] - 6s 106ms/step - loss: 0.0221 - accuracy: 0.9999 - val_loss: 0.5974 - val_accuracy: 0.8173\n",
      "Epoch 27/100\n",
      "53/53 [==============================] - 6s 106ms/step - loss: 0.0199 - accuracy: 1.0000 - val_loss: 0.6212 - val_accuracy: 0.8151\n",
      "Epoch 28/100\n",
      "53/53 [==============================] - 6s 105ms/step - loss: 0.0183 - accuracy: 1.0000 - val_loss: 0.5956 - val_accuracy: 0.8231\n",
      "Epoch 29/100\n",
      "53/53 [==============================] - 6s 106ms/step - loss: 0.0157 - accuracy: 1.0000 - val_loss: 0.5996 - val_accuracy: 0.8276\n",
      "Epoch 30/100\n",
      "53/53 [==============================] - 6s 105ms/step - loss: 0.0144 - accuracy: 0.9999 - val_loss: 0.5903 - val_accuracy: 0.8236\n",
      "Epoch 31/100\n",
      "53/53 [==============================] - 6s 106ms/step - loss: 0.0125 - accuracy: 1.0000 - val_loss: 0.6088 - val_accuracy: 0.8178\n",
      "Epoch 32/100\n",
      "53/53 [==============================] - 6s 105ms/step - loss: 0.0114 - accuracy: 1.0000 - val_loss: 0.5959 - val_accuracy: 0.8249\n",
      "Epoch 33/100\n",
      "53/53 [==============================] - 6s 106ms/step - loss: 0.0103 - accuracy: 1.0000 - val_loss: 0.6068 - val_accuracy: 0.8240\n",
      "Epoch 34/100\n",
      "53/53 [==============================] - 6s 106ms/step - loss: 0.0095 - accuracy: 1.0000 - val_loss: 0.6130 - val_accuracy: 0.8222\n",
      "Epoch 35/100\n",
      "53/53 [==============================] - 6s 105ms/step - loss: 0.0088 - accuracy: 1.0000 - val_loss: 0.6100 - val_accuracy: 0.8249\n",
      "Epoch 36/100\n",
      "53/53 [==============================] - 6s 106ms/step - loss: 0.0082 - accuracy: 1.0000 - val_loss: 0.6133 - val_accuracy: 0.8253\n",
      "Epoch 37/100\n",
      "53/53 [==============================] - 6s 106ms/step - loss: 0.0077 - accuracy: 1.0000 - val_loss: 0.6104 - val_accuracy: 0.8293\n",
      "Epoch 38/100\n",
      "53/53 [==============================] - 6s 106ms/step - loss: 0.0069 - accuracy: 1.0000 - val_loss: 0.6135 - val_accuracy: 0.8258\n",
      "Epoch 39/100\n",
      "53/53 [==============================] - 6s 106ms/step - loss: 0.0063 - accuracy: 1.0000 - val_loss: 0.6119 - val_accuracy: 0.8236\n",
      "Epoch 40/100\n",
      "53/53 [==============================] - 6s 106ms/step - loss: 0.0060 - accuracy: 1.0000 - val_loss: 0.6224 - val_accuracy: 0.8280\n",
      "Epoch 41/100\n",
      "53/53 [==============================] - 6s 105ms/step - loss: 0.0057 - accuracy: 1.0000 - val_loss: 0.6197 - val_accuracy: 0.8280\n",
      "Epoch 42/100\n",
      "53/53 [==============================] - 6s 106ms/step - loss: 0.0051 - accuracy: 1.0000 - val_loss: 0.6206 - val_accuracy: 0.8267\n",
      "Epoch 43/100\n",
      "53/53 [==============================] - 6s 105ms/step - loss: 0.0049 - accuracy: 1.0000 - val_loss: 0.6223 - val_accuracy: 0.8302\n",
      "Epoch 44/100\n",
      "53/53 [==============================] - 6s 106ms/step - loss: 0.0047 - accuracy: 1.0000 - val_loss: 0.6187 - val_accuracy: 0.8289\n",
      "Epoch 45/100\n",
      "53/53 [==============================] - 6s 106ms/step - loss: 0.0043 - accuracy: 1.0000 - val_loss: 0.6244 - val_accuracy: 0.8302\n",
      "Epoch 46/100\n",
      "53/53 [==============================] - 6s 106ms/step - loss: 0.0041 - accuracy: 1.0000 - val_loss: 0.6230 - val_accuracy: 0.8329\n",
      "Epoch 47/100\n",
      "53/53 [==============================] - 6s 106ms/step - loss: 0.0038 - accuracy: 1.0000 - val_loss: 0.6250 - val_accuracy: 0.8324\n",
      "Epoch 48/100\n",
      "53/53 [==============================] - 6s 106ms/step - loss: 0.0036 - accuracy: 1.0000 - val_loss: 0.6345 - val_accuracy: 0.8307\n",
      "Epoch 49/100\n",
      "53/53 [==============================] - 6s 106ms/step - loss: 0.0035 - accuracy: 1.0000 - val_loss: 0.6350 - val_accuracy: 0.8311\n",
      "Epoch 50/100\n",
      "53/53 [==============================] - 6s 106ms/step - loss: 0.0033 - accuracy: 1.0000 - val_loss: 0.6373 - val_accuracy: 0.8280\n",
      "Epoch 51/100\n",
      "53/53 [==============================] - 6s 106ms/step - loss: 0.0031 - accuracy: 1.0000 - val_loss: 0.6316 - val_accuracy: 0.8320\n",
      "Epoch 52/100\n",
      "53/53 [==============================] - 6s 106ms/step - loss: 0.0029 - accuracy: 1.0000 - val_loss: 0.6316 - val_accuracy: 0.8311\n",
      "Epoch 53/100\n",
      "53/53 [==============================] - 6s 106ms/step - loss: 0.0027 - accuracy: 1.0000 - val_loss: 0.6409 - val_accuracy: 0.8307\n",
      "Epoch 54/100\n",
      "53/53 [==============================] - 6s 106ms/step - loss: 0.0026 - accuracy: 1.0000 - val_loss: 0.6364 - val_accuracy: 0.8329\n",
      "Epoch 55/100\n",
      "53/53 [==============================] - 6s 106ms/step - loss: 0.0025 - accuracy: 1.0000 - val_loss: 0.6447 - val_accuracy: 0.8320\n",
      "Epoch 56/100\n",
      "53/53 [==============================] - 6s 106ms/step - loss: 0.0024 - accuracy: 1.0000 - val_loss: 0.6402 - val_accuracy: 0.8324\n",
      "Epoch 57/100\n",
      "53/53 [==============================] - 6s 106ms/step - loss: 0.0022 - accuracy: 1.0000 - val_loss: 0.6501 - val_accuracy: 0.8293\n",
      "Epoch 58/100\n",
      "53/53 [==============================] - 6s 106ms/step - loss: 0.0021 - accuracy: 1.0000 - val_loss: 0.6479 - val_accuracy: 0.8320\n",
      "Epoch 59/100\n",
      "53/53 [==============================] - 6s 106ms/step - loss: 0.0020 - accuracy: 1.0000 - val_loss: 0.6475 - val_accuracy: 0.8320\n",
      "Epoch 60/100\n",
      "53/53 [==============================] - 6s 106ms/step - loss: 0.0019 - accuracy: 1.0000 - val_loss: 0.6465 - val_accuracy: 0.8324\n",
      "Epoch 61/100\n",
      "53/53 [==============================] - 6s 106ms/step - loss: 0.0019 - accuracy: 1.0000 - val_loss: 0.6592 - val_accuracy: 0.8333\n",
      "Epoch 62/100\n",
      "53/53 [==============================] - 6s 106ms/step - loss: 0.0018 - accuracy: 1.0000 - val_loss: 0.6577 - val_accuracy: 0.8271\n",
      "Epoch 63/100\n",
      "53/53 [==============================] - 6s 106ms/step - loss: 0.0017 - accuracy: 1.0000 - val_loss: 0.6572 - val_accuracy: 0.8329\n",
      "Epoch 64/100\n",
      "53/53 [==============================] - 6s 106ms/step - loss: 0.0016 - accuracy: 1.0000 - val_loss: 0.6585 - val_accuracy: 0.8338\n",
      "Epoch 65/100\n",
      "53/53 [==============================] - 6s 106ms/step - loss: 0.0016 - accuracy: 1.0000 - val_loss: 0.6552 - val_accuracy: 0.8347\n",
      "Epoch 66/100\n",
      "53/53 [==============================] - 6s 106ms/step - loss: 0.0015 - accuracy: 1.0000 - val_loss: 0.6627 - val_accuracy: 0.8302\n",
      "Epoch 67/100\n",
      "53/53 [==============================] - 6s 106ms/step - loss: 0.0014 - accuracy: 1.0000 - val_loss: 0.6607 - val_accuracy: 0.8329\n",
      "Epoch 68/100\n",
      "53/53 [==============================] - 6s 106ms/step - loss: 0.0014 - accuracy: 1.0000 - val_loss: 0.6630 - val_accuracy: 0.8333\n",
      "Epoch 69/100\n",
      "53/53 [==============================] - 6s 106ms/step - loss: 0.0013 - accuracy: 1.0000 - val_loss: 0.6645 - val_accuracy: 0.8298\n",
      "Epoch 70/100\n",
      "53/53 [==============================] - 6s 106ms/step - loss: 0.0012 - accuracy: 1.0000 - val_loss: 0.6637 - val_accuracy: 0.8338\n",
      "Epoch 71/100\n",
      "53/53 [==============================] - 6s 106ms/step - loss: 0.0012 - accuracy: 1.0000 - val_loss: 0.6642 - val_accuracy: 0.8333\n",
      "Epoch 72/100\n",
      "53/53 [==============================] - 6s 106ms/step - loss: 0.0012 - accuracy: 1.0000 - val_loss: 0.6713 - val_accuracy: 0.8316\n",
      "Epoch 73/100\n",
      "53/53 [==============================] - 5s 102ms/step - loss: 0.0011 - accuracy: 1.0000 - val_loss: 0.6701 - val_accuracy: 0.8324\n",
      "Epoch 74/100\n",
      "53/53 [==============================] - 6s 105ms/step - loss: 0.0011 - accuracy: 1.0000 - val_loss: 0.6677 - val_accuracy: 0.8338\n",
      "Epoch 75/100\n",
      "53/53 [==============================] - 6s 107ms/step - loss: 0.0010 - accuracy: 1.0000 - val_loss: 0.6793 - val_accuracy: 0.8329\n",
      "Epoch 76/100\n",
      "53/53 [==============================] - 6s 107ms/step - loss: 9.8060e-04 - accuracy: 1.0000 - val_loss: 0.6747 - val_accuracy: 0.8329\n",
      "Epoch 77/100\n",
      "53/53 [==============================] - 6s 106ms/step - loss: 9.2879e-04 - accuracy: 1.0000 - val_loss: 0.6756 - val_accuracy: 0.8333\n",
      "Epoch 78/100\n",
      "53/53 [==============================] - 6s 107ms/step - loss: 8.9292e-04 - accuracy: 1.0000 - val_loss: 0.6773 - val_accuracy: 0.8329\n",
      "Epoch 79/100\n",
      "53/53 [==============================] - 6s 106ms/step - loss: 8.6755e-04 - accuracy: 1.0000 - val_loss: 0.6826 - val_accuracy: 0.8342\n",
      "Epoch 80/100\n",
      "53/53 [==============================] - 6s 107ms/step - loss: 8.2721e-04 - accuracy: 1.0000 - val_loss: 0.6863 - val_accuracy: 0.8316\n",
      "Epoch 81/100\n",
      "53/53 [==============================] - 6s 107ms/step - loss: 7.9882e-04 - accuracy: 1.0000 - val_loss: 0.6861 - val_accuracy: 0.8356\n",
      "Epoch 82/100\n",
      "53/53 [==============================] - 6s 107ms/step - loss: 7.6075e-04 - accuracy: 1.0000 - val_loss: 0.6879 - val_accuracy: 0.8342\n",
      "Epoch 83/100\n",
      "53/53 [==============================] - 6s 107ms/step - loss: 7.3433e-04 - accuracy: 1.0000 - val_loss: 0.6890 - val_accuracy: 0.8333\n",
      "Epoch 84/100\n",
      "53/53 [==============================] - 6s 107ms/step - loss: 7.1388e-04 - accuracy: 1.0000 - val_loss: 0.6865 - val_accuracy: 0.8369\n",
      "Epoch 85/100\n",
      "53/53 [==============================] - 6s 107ms/step - loss: 6.8308e-04 - accuracy: 1.0000 - val_loss: 0.6932 - val_accuracy: 0.8342\n",
      "Epoch 86/100\n",
      "53/53 [==============================] - 6s 106ms/step - loss: 6.5254e-04 - accuracy: 1.0000 - val_loss: 0.6901 - val_accuracy: 0.8333\n",
      "Epoch 87/100\n",
      "53/53 [==============================] - 6s 106ms/step - loss: 6.3200e-04 - accuracy: 1.0000 - val_loss: 0.6951 - val_accuracy: 0.8347\n",
      "Epoch 88/100\n",
      "53/53 [==============================] - 6s 107ms/step - loss: 6.1000e-04 - accuracy: 1.0000 - val_loss: 0.6946 - val_accuracy: 0.8347\n",
      "Epoch 89/100\n",
      "53/53 [==============================] - 6s 106ms/step - loss: 5.8650e-04 - accuracy: 1.0000 - val_loss: 0.6989 - val_accuracy: 0.8356\n",
      "Epoch 90/100\n",
      "53/53 [==============================] - 6s 107ms/step - loss: 5.6376e-04 - accuracy: 1.0000 - val_loss: 0.6963 - val_accuracy: 0.8347\n",
      "Epoch 91/100\n",
      "53/53 [==============================] - 6s 106ms/step - loss: 5.4491e-04 - accuracy: 1.0000 - val_loss: 0.7032 - val_accuracy: 0.8373\n",
      "Epoch 92/100\n",
      "53/53 [==============================] - 6s 106ms/step - loss: 5.2456e-04 - accuracy: 1.0000 - val_loss: 0.7006 - val_accuracy: 0.8342\n",
      "Epoch 93/100\n",
      "53/53 [==============================] - 6s 107ms/step - loss: 5.0708e-04 - accuracy: 1.0000 - val_loss: 0.6961 - val_accuracy: 0.8347\n",
      "Epoch 94/100\n",
      "53/53 [==============================] - 6s 106ms/step - loss: 4.8777e-04 - accuracy: 1.0000 - val_loss: 0.7022 - val_accuracy: 0.8333\n",
      "Epoch 95/100\n",
      "53/53 [==============================] - 6s 106ms/step - loss: 4.7076e-04 - accuracy: 1.0000 - val_loss: 0.7056 - val_accuracy: 0.8347\n",
      "Epoch 96/100\n",
      "53/53 [==============================] - 6s 106ms/step - loss: 4.5672e-04 - accuracy: 1.0000 - val_loss: 0.7082 - val_accuracy: 0.8360\n",
      "Epoch 97/100\n",
      "53/53 [==============================] - 6s 106ms/step - loss: 4.3580e-04 - accuracy: 1.0000 - val_loss: 0.7124 - val_accuracy: 0.8378\n",
      "Epoch 98/100\n",
      "53/53 [==============================] - 6s 107ms/step - loss: 4.2601e-04 - accuracy: 1.0000 - val_loss: 0.7071 - val_accuracy: 0.8364\n",
      "Epoch 99/100\n",
      "53/53 [==============================] - 6s 106ms/step - loss: 4.0709e-04 - accuracy: 1.0000 - val_loss: 0.7085 - val_accuracy: 0.8329\n",
      "Epoch 100/100\n",
      "53/53 [==============================] - 6s 106ms/step - loss: 3.9358e-04 - accuracy: 1.0000 - val_loss: 0.7140 - val_accuracy: 0.8351\n"
     ]
    }
   ],
   "source": [
    "# Train the model\n",
    "history = model.fit(X_train, Y_train, epochs=100, validation_split=0.25,batch_size=128)"
   ]
  },
  {
   "cell_type": "code",
   "execution_count": 11,
   "metadata": {},
   "outputs": [
    {
     "name": "stdout",
     "output_type": "stream",
     "text": [
      "94/94 [==============================] - 2s 23ms/step - loss: 0.6667 - accuracy: 0.8473\n",
      "Test loss: 0.6666870713233948\n",
      "Test accuracy: 0.8473333120346069\n"
     ]
    }
   ],
   "source": [
    "# Evaluate the model\n",
    "score = model.evaluate(X_test, Y_test)\n",
    "print('Test loss:', score[0])\n",
    "print('Test accuracy:', score[1])"
   ]
  },
  {
   "cell_type": "code",
   "execution_count": 16,
   "metadata": {},
   "outputs": [
    {
     "name": "stdout",
     "output_type": "stream",
     "text": [
      "282/282 [==============================] - 7s 24ms/step - loss: 0.1788 - accuracy: 0.9588\n",
      "Train loss: 0.17878463864326477\n",
      "Train accuracy: 0.9587777853012085\n"
     ]
    }
   ],
   "source": [
    "# Evaluate the model\n",
    "score1 = model.evaluate(X_train, Y_train)\n",
    "print('Train loss:', score1[0])\n",
    "print('Train accuracy:', score1[1])"
   ]
  },
  {
   "cell_type": "code",
   "execution_count": 12,
   "metadata": {},
   "outputs": [
    {
     "data": {
      "text/plain": [
       "<matplotlib.legend.Legend at 0x2584e0b5730>"
      ]
     },
     "execution_count": 12,
     "metadata": {},
     "output_type": "execute_result"
    },
    {
     "data": {
      "image/png": "[encoded data removed]",
      "text/plain": [
       "<Figure size 1200x400 with 1 Axes>"
      ]
     },
     "metadata": {},
     "output_type": "display_data"
    }
   ],
   "source": [
    "# Plot training & validation accuracy values\n",
    "plt.figure(figsize=(12, 4))\n",
    "\n",
    "plt.subplot(1, 2, 1)\n",
    "plt.plot(history.history['accuracy'])\n",
    "plt.plot(history.history['val_accuracy'])\n",
    "plt.title('VGG16 Model accuracy')\n",
    "plt.ylabel('Accuracy')\n",
    "plt.xlabel('Epoch')\n",
    "plt.legend(['Train', 'Test'], loc='upper left')"
   ]
  },
  {
   "cell_type": "code",
   "execution_count": 14,
   "metadata": {},
   "outputs": [
    {
     "data": {
      "image/png": "[encoded data removed]",
      "text/plain": [
       "<Figure size 640x480 with 1 Axes>"
      ]
     },
     "metadata": {},
     "output_type": "display_data"
    }
   ],
   "source": [
    "# Plot training & validation loss values\n",
    "plt.subplot(1, 2, 2)\n",
    "plt.plot(history.history['loss'])\n",
    "plt.plot(history.history['val_loss'])\n",
    "plt.title('Model loss')\n",
    "plt.ylabel('Loss')\n",
    "plt.xlabel('Epoch')\n",
    "plt.legend(['Train', 'Test'], loc='upper left')\n",
    "\n",
    "plt.show()"
   ]
  },
  {
   "cell_type": "code",
   "execution_count": 15,
   "metadata": {},
   "outputs": [
    {
     "name": "stdout",
     "output_type": "stream",
     "text": [
      "94/94 [==============================] - 2s 21ms/step\n",
      "Precision: 0.8465\n",
      "Recall: 0.8473\n",
      "F1 Score: 0.8468\n"
     ]
    }
   ],
   "source": [
    "from sklearn.metrics import precision_score, recall_score, f1_score\n",
    "# After training the model, make predictions on the test set\n",
    "Y_pred = model.predict(X_test)\n",
    "\n",
    "# Convert predicted probabilities to class labels\n",
    "Y_pred_classes = np.argmax(Y_pred, axis=1)\n",
    "\n",
    "# Calculate precision, recall, and F1 score\n",
    "precision = precision_score(Y_test, Y_pred_classes, average='weighted')\n",
    "recall = recall_score(Y_test, Y_pred_classes, average='weighted')\n",
    "f1 = f1_score(Y_test, Y_pred_classes, average='weighted')\n",
    "\n",
    "print(f'Precision: {precision:.4f}')\n",
    "print(f'Recall: {recall:.4f}')\n",
    "print(f'F1 Score: {f1:.4f}')\n"
   ]
  },
  {
   "cell_type": "code",
   "execution_count": null,
   "metadata": {},
   "outputs": [],
   "source": []
  }
 ],
 "metadata": {
  "kernelspec": {
   "display_name": "gpu_env",
   "language": "python",
   "name": "python3"
  },
  "language_info": {
   "codemirror_mode": {
    "name": "ipython",
    "version": 3
   },
   "file_extension": ".py",
   "mimetype": "text/x-python",
   "name": "python",
   "nbconvert_exporter": "python",
   "pygments_lexer": "ipython3",
   "version": "3.8.17"
  },
  "orig_nbformat": 4
 },
 "nbformat": 4,
 "nbformat_minor": 2
}
